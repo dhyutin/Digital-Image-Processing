{
 "cells": [
  {
   "cell_type": "code",
   "execution_count": 9,
   "id": "0973ff46",
   "metadata": {},
   "outputs": [],
   "source": [
    "import cv2\n",
    "import numpy as np\n",
    "from matplotlib import pyplot as plt\n",
    "import glob\n",
    "from sklearn.metrics import mean_squared_error\n",
    "import math\n",
    "import statistics\n",
    "\n",
    "def read_img(img_list, img):\n",
    "    n = cv2.imread(img, 1)\n",
    "    # converting BGR to RGB\n",
    "    image_rgb = cv2.cvtColor(n, cv2.COLOR_BGR2RGB)\n",
    "    img_list.append(image_rgb)\n",
    "    return img_list\n",
    "\n",
    "def convertgray(img_list, img):\n",
    "    n = cv2.imread(img, 0)\n",
    "    # converting BGR to RGB\n",
    "    image_rgb = cv2.cvtColor(n, cv2.COLOR_BGR2RGB)\n",
    "    img_list.append(image_rgb)\n",
    "    return img_list\n",
    "\n",
    "def rmsecalculate(img_list, rmse_):\n",
    "    # Set a reference Image\n",
    "    reference = img_list[0]\n",
    "    ref = reference.flatten()\n",
    "    \n",
    "    #Calculate RMSE values of remaining 99 images\n",
    "    for i in range(len(img_list)):\n",
    "        img1 = img_list[i]\n",
    "        imag = img1.flatten()\n",
    "        mse = 0\n",
    "        n = len(imag)\n",
    "        for j in range(len(img)):\n",
    "            diff = imag[j] - ref[j]\n",
    "            sq = diff * diff;\n",
    "            div = sq / n\n",
    "            mse = mse + div\n",
    "        rmse = math.sqrt(mse)\n",
    "        rmse_.append(rmse)\n",
    "        \n",
    "#         # cumulative rmse\n",
    "#         for i in range(len(rmse_) - 1):\n",
    "#             rmse_[i+1] = rmse_[i+1] + rmse_[i]\n",
    "            \n",
    "    return rmse_\n",
    "        \n",
    "\n",
    "\n",
    "path = glob.glob(r\"C:\\Users\\dhyut\\DIP\\Lab1\\pictures\\*.jpg\")\n",
    "\n",
    "# Stores all images\n",
    "list_ = []\n",
    "\n",
    "# Funcation calls to read all images in 'list_'\n",
    "image = [read_img(list_, img) for img in path]\n",
    "\n",
    "gray_img =[]\n",
    "img = [convertgray(gray_img, img) for img in path]"
   ]
  },
  {
   "cell_type": "code",
   "execution_count": 11,
   "id": "4c93c4f7",
   "metadata": {},
   "outputs": [
    {
     "ename": "IndexError",
     "evalue": "list index out of range",
     "output_type": "error",
     "traceback": [
      "\u001b[1;31m---------------------------------------------------------------------------\u001b[0m",
      "\u001b[1;31mIndexError\u001b[0m                                Traceback (most recent call last)",
      "Input \u001b[1;32mIn [11]\u001b[0m, in \u001b[0;36m<cell line: 4>\u001b[1;34m()\u001b[0m\n\u001b[0;32m      1\u001b[0m \u001b[38;5;66;03m# Set a reference Image\u001b[39;00m\n\u001b[0;32m      2\u001b[0m RMSE \u001b[38;5;241m=\u001b[39m []\n\u001b[1;32m----> 4\u001b[0m RMSE \u001b[38;5;241m=\u001b[39m \u001b[43mrmsecalculate\u001b[49m\u001b[43m(\u001b[49m\u001b[43mlist_\u001b[49m\u001b[43m,\u001b[49m\u001b[43m \u001b[49m\u001b[43mRMSE\u001b[49m\u001b[43m)\u001b[49m\n\u001b[0;32m      5\u001b[0m \u001b[38;5;66;03m#plot graph\u001b[39;00m\n\u001b[0;32m      6\u001b[0m num \u001b[38;5;241m=\u001b[39m []\n",
      "Input \u001b[1;32mIn [9]\u001b[0m, in \u001b[0;36mrmsecalculate\u001b[1;34m(img_list, rmse_)\u001b[0m\n\u001b[0;32m     23\u001b[0m \u001b[38;5;28;01mdef\u001b[39;00m \u001b[38;5;21mrmsecalculate\u001b[39m(img_list, rmse_):\n\u001b[0;32m     24\u001b[0m     \u001b[38;5;66;03m# Set a reference Image\u001b[39;00m\n\u001b[1;32m---> 25\u001b[0m     reference \u001b[38;5;241m=\u001b[39m \u001b[43mimg_list\u001b[49m\u001b[43m[\u001b[49m\u001b[38;5;241;43m0\u001b[39;49m\u001b[43m]\u001b[49m\n\u001b[0;32m     26\u001b[0m     ref \u001b[38;5;241m=\u001b[39m reference\u001b[38;5;241m.\u001b[39mflatten()\n\u001b[0;32m     28\u001b[0m     \u001b[38;5;66;03m#Calculate RMSE values of remaining 99 images\u001b[39;00m\n",
      "\u001b[1;31mIndexError\u001b[0m: list index out of range"
     ]
    }
   ],
   "source": [
    "# Set a reference Image\n",
    "RMSE = []\n",
    "\n",
    "RMSE = rmsecalculate(list_, RMSE)\n",
    "#plot graph\n",
    "num = []\n",
    "for i in range(len(list_)):\n",
    "    num.append(i+1)\n",
    "\n",
    "plt.scatter(num, RMSE)\n",
    "plt.xlabel(\"Number of Images\")\n",
    "plt.ylabel(\"RMSE Error\")\n",
    "plt.grid(color = 'green', linestyle = '--', linewidth = 0.5)\n",
    "plt.title(\"Original images RMSE\")\n",
    "plt.show()\n",
    "\n",
    "\n",
    "RMSE_gray = []\n",
    "RMSE_gray = rmsecalculate(gray_img, RMSE_gray)\n",
    "#plot graph\n",
    "plt.scatter(num, RMSE_gray)\n",
    "plt.xlabel(\"Number of Images\")\n",
    "plt.ylabel(\"RMSE Error\")\n",
    "plt.grid(color = 'green', linestyle = '--', linewidth = 0.5)\n",
    "plt.title(\"Grayscale images RMSE\")\n",
    "plt.show()\n",
    "    "
   ]
  },
  {
   "cell_type": "code",
   "execution_count": null,
   "id": "ce66e104",
   "metadata": {},
   "outputs": [],
   "source": []
  },
  {
   "cell_type": "code",
   "execution_count": null,
   "id": "b132ba2c",
   "metadata": {},
   "outputs": [],
   "source": []
  }
 ],
 "metadata": {
  "kernelspec": {
   "display_name": "Python 3 (ipykernel)",
   "language": "python",
   "name": "python3"
  },
  "language_info": {
   "codemirror_mode": {
    "name": "ipython",
    "version": 3
   },
   "file_extension": ".py",
   "mimetype": "text/x-python",
   "name": "python",
   "nbconvert_exporter": "python",
   "pygments_lexer": "ipython3",
   "version": "3.9.12"
  }
 },
 "nbformat": 4,
 "nbformat_minor": 5
}
