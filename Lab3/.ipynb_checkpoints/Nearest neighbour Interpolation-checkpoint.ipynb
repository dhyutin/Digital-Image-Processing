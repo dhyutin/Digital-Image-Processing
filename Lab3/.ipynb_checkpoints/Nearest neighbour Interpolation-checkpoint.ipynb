{
 "cells": [
  {
   "cell_type": "code",
   "execution_count": 1,
   "id": "d9e089a3",
   "metadata": {},
   "outputs": [],
   "source": [
    "import cv2\n",
    "import numpy as np\n",
    "from matplotlib import pyplot as plt\n",
    "\n",
    "\n",
    "# Lena Image\n",
    "lena_bgr = cv2.imread(\"Lena.png\", 1)\n",
    "# converting BGR to RGB\n",
    "lena = cv2.cvtColor(lena_bgr, cv2.COLOR_BGR2RGB)"
   ]
  },
  {
   "cell_type": "code",
   "execution_count": 2,
   "id": "4e554b53",
   "metadata": {},
   "outputs": [],
   "source": [
    "def nni(img,scale):\n",
    "    w , h, l = img.shape\n",
    "    img2 = np.random.random((int(np.round_(w*scale)),int(np.round_(h*scale)), l))    #height for rows and width for columns.\n",
    "    for k in range(0,l):\n",
    "        for i in range(0, int(np.round_(w*scale))):\n",
    "            x = int(np.round_(i/scale))\n",
    "            if x == 512:\n",
    "                x = x-1\n",
    "            for j in range(0,int(np.round_(h*scale))):\n",
    "                y = int(np.round_(j/scale))\n",
    "                if y == 512:\n",
    "                    y = y-1\n",
    "                img2[i][j][k] =  img[x][y][k]\n",
    "    return img2\n"
   ]
  },
  {
   "cell_type": "code",
   "execution_count": null,
   "id": "09c2c532",
   "metadata": {},
   "outputs": [],
   "source": [
    "x = nni(lena,2)\n",
    "x = x.astype(np.int32)\n",
    "\n",
    "y = nni(lena,0.5)\n",
    "y = y.astype(np.int32)\n",
    "\n",
    "z = nni(lena,1)\n",
    "z = z.astype(np.int32)\n",
    "\n",
    "inbuilt_x = cv2.resize(lena, (1024, 1024), cv2.INTER_NEAREST) #scale = 2\n",
    "inbuilt_y = cv2.resize(lena, (256, 256), cv2.INTER_NEAREST) #scale = 0.5\n",
    "inbuilt_z = cv2.resize(lena, (512, 512), cv2.INTER_NEAREST) #scale = 1"
   ]
  },
  {
   "cell_type": "code",
   "execution_count": null,
   "id": "2aee7e87",
   "metadata": {},
   "outputs": [],
   "source": [
    "#printing the images\n",
    "images = [x,inbuilt_x,y,inbuilt_y,z,inbuilt_z]\n",
    "titles = [\"scale = 2\", \"inbuilt_2\",\"scale = 0.5\",\"inbuilt_0.5\",\"scale = 1\",\"inbuilt_1\"]\n",
    "plt.figure(figsize=(20,20))\n",
    " \n",
    "for i in range(6):\n",
    "    plt.subplot(3,2,i+1)\n",
    "    plt.imshow(images[i],cmap=\"gray\")\n",
    "    plt.title(titles[i])\n",
    "plt.show()"
   ]
  },
  {
   "cell_type": "code",
   "execution_count": null,
   "id": "96da93b0",
   "metadata": {},
   "outputs": [],
   "source": []
  }
 ],
 "metadata": {
  "kernelspec": {
   "display_name": "Python 3 (ipykernel)",
   "language": "python",
   "name": "python3"
  },
  "language_info": {
   "codemirror_mode": {
    "name": "ipython",
    "version": 3
   },
   "file_extension": ".py",
   "mimetype": "text/x-python",
   "name": "python",
   "nbconvert_exporter": "python",
   "pygments_lexer": "ipython3",
   "version": "3.9.7"
  }
 },
 "nbformat": 4,
 "nbformat_minor": 5
}
