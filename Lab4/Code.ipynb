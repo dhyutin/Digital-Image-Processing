{
 "cells": [
  {
   "cell_type": "code",
   "execution_count": 7,
   "id": "40642d00",
   "metadata": {},
   "outputs": [
    {
     "name": "stdout",
     "output_type": "stream",
     "text": [
      "(165, 305)\n",
      "(165, 305)\n"
     ]
    },
    {
     "ename": "IndexError",
     "evalue": "index 165 is out of bounds for axis 0 with size 165",
     "output_type": "error",
     "traceback": [
      "\u001b[1;31m---------------------------------------------------------------------------\u001b[0m",
      "\u001b[1;31mIndexError\u001b[0m                                Traceback (most recent call last)",
      "\u001b[1;32m~\\AppData\\Local\\Temp/ipykernel_21348/1617491434.py\u001b[0m in \u001b[0;36m<module>\u001b[1;34m\u001b[0m\n\u001b[0;32m     20\u001b[0m         \u001b[0my_cord\u001b[0m\u001b[1;33m=\u001b[0m\u001b[0mint\u001b[0m\u001b[1;33m(\u001b[0m\u001b[1;33m(\u001b[0m\u001b[0mi\u001b[0m\u001b[1;33m*\u001b[0m\u001b[0mmath\u001b[0m\u001b[1;33m.\u001b[0m\u001b[0msin\u001b[0m\u001b[1;33m(\u001b[0m\u001b[0ma\u001b[0m\u001b[1;33m)\u001b[0m\u001b[1;33m+\u001b[0m\u001b[0mj\u001b[0m\u001b[1;33m*\u001b[0m\u001b[0mmath\u001b[0m\u001b[1;33m.\u001b[0m\u001b[0mcos\u001b[0m\u001b[1;33m(\u001b[0m\u001b[0ma\u001b[0m\u001b[1;33m)\u001b[0m\u001b[1;33m)\u001b[0m\u001b[1;33m)\u001b[0m\u001b[1;33m\u001b[0m\u001b[1;33m\u001b[0m\u001b[0m\n\u001b[0;32m     21\u001b[0m         \u001b[1;32mif\u001b[0m\u001b[1;33m(\u001b[0m\u001b[0mx_cord\u001b[0m\u001b[1;33m<\u001b[0m\u001b[1;36m224\u001b[0m \u001b[1;32mand\u001b[0m \u001b[0my_cord\u001b[0m\u001b[1;33m<\u001b[0m\u001b[1;36m225\u001b[0m\u001b[1;33m)\u001b[0m\u001b[1;33m:\u001b[0m\u001b[1;33m\u001b[0m\u001b[1;33m\u001b[0m\u001b[0m\n\u001b[1;32m---> 22\u001b[1;33m             \u001b[0mnew\u001b[0m\u001b[1;33m[\u001b[0m\u001b[0mx_cord\u001b[0m\u001b[1;33m]\u001b[0m\u001b[1;33m[\u001b[0m\u001b[0my_cord\u001b[0m\u001b[1;33m]\u001b[0m \u001b[1;33m=\u001b[0m \u001b[0mimg\u001b[0m\u001b[1;33m[\u001b[0m\u001b[0mi\u001b[0m\u001b[1;33m]\u001b[0m\u001b[1;33m[\u001b[0m\u001b[0mj\u001b[0m\u001b[1;33m]\u001b[0m\u001b[1;33m;\u001b[0m\u001b[1;33m\u001b[0m\u001b[1;33m\u001b[0m\u001b[0m\n\u001b[0m\u001b[0;32m     23\u001b[0m             \u001b[0mrotated\u001b[0m\u001b[1;33m[\u001b[0m\u001b[0mx_cord\u001b[0m\u001b[1;33m]\u001b[0m\u001b[1;33m[\u001b[0m\u001b[0my_cord\u001b[0m\u001b[1;33m]\u001b[0m \u001b[1;33m=\u001b[0m \u001b[0mimg\u001b[0m\u001b[1;33m[\u001b[0m\u001b[0mi\u001b[0m\u001b[1;33m]\u001b[0m\u001b[1;33m[\u001b[0m\u001b[0mj\u001b[0m\u001b[1;33m]\u001b[0m\u001b[1;33m;\u001b[0m\u001b[1;33m\u001b[0m\u001b[1;33m\u001b[0m\u001b[0m\n\u001b[0;32m     24\u001b[0m \u001b[0mcv2\u001b[0m\u001b[1;33m.\u001b[0m\u001b[0mimshow\u001b[0m\u001b[1;33m(\u001b[0m\u001b[1;34m'rotated'\u001b[0m\u001b[1;33m,\u001b[0m\u001b[0mnew\u001b[0m\u001b[1;33m)\u001b[0m \u001b[1;31m#rotated image without bilinear interpolation\u001b[0m\u001b[1;33m\u001b[0m\u001b[1;33m\u001b[0m\u001b[0m\n",
      "\u001b[1;31mIndexError\u001b[0m: index 165 is out of bounds for axis 0 with size 165"
     ]
    }
   ],
   "source": [
    "import cv2\n",
    "import math\n",
    "import numpy as np\n",
    "from matplotlib import pyplot as plt\n",
    "img=cv2.imread(\"PISA.jpg\",0)\n",
    "cv2.imshow('Original',img)\n",
    "cv2.waitKey(0)\n",
    "print(img.shape)\n",
    "a=(18*math.pi/180)\n",
    "hgt=img.shape[0]\n",
    "wdt=img.shape[1]\n",
    "print(img.shape)\n",
    "new=np.zeros([224,225],dtype=np.uint8)\n",
    "rotated=np.zeros([224,225],dtype=np.uint8)\n",
    "# cv2.imshow('original',img)\n",
    "# cv2.waitKey(0)\n",
    "for i in range(224):\n",
    "    for j in range(225):\n",
    "        x_cord=int(i*math.cos(a)-j*math.sin(a))\n",
    "        y_cord=int((i*math.sin(a)+j*math.cos(a)))\n",
    "        if(x_cord<224 and y_cord<225):\n",
    "            new[x_cord][y_cord] = img[i][j];\n",
    "            rotated[x_cord][y_cord] = img[i][j];\n",
    "cv2.imshow('rotated',new) #rotated image without bilinear interpolation\n",
    "cv2.waitKey(0)\n",
    "# cv2.destroyAllWindows()\n",
    "for i in range(224):\n",
    "    for j in range(225):\n",
    "        if( new[i][j]==0):\n",
    "            print(i,j)\n",
    "            if(i>0 and j>0 and i<223 and j<223):\n",
    "                new[i][j]=0.25*(rotated[i-2][j-2]+rotated[i-2][j]+rotated[i][j]+rotated[i][j-1])\n",
    "\n",
    "cv2.imshow('new_rot',new)\n",
    "cv2.waitKey(0)\n",
    "cv2.destroyAllWindows()"
   ]
  },
  {
   "cell_type": "code",
   "execution_count": null,
   "id": "9c0fec49",
   "metadata": {},
   "outputs": [],
   "source": []
  },
  {
   "cell_type": "code",
   "execution_count": null,
   "id": "22c652c4",
   "metadata": {},
   "outputs": [],
   "source": []
  }
 ],
 "metadata": {
  "kernelspec": {
   "display_name": "Python 3 (ipykernel)",
   "language": "python",
   "name": "python3"
  },
  "language_info": {
   "codemirror_mode": {
    "name": "ipython",
    "version": 3
   },
   "file_extension": ".py",
   "mimetype": "text/x-python",
   "name": "python",
   "nbconvert_exporter": "python",
   "pygments_lexer": "ipython3",
   "version": "3.9.7"
  }
 },
 "nbformat": 4,
 "nbformat_minor": 5
}
